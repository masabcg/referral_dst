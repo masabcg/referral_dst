{
 "cells": [
  {
   "cell_type": "markdown",
   "id": "07aa3868-24b2-4f03-92ac-d855fa523011",
   "metadata": {},
   "source": [
    "# 1. 前準備"
   ]
  },
  {
   "cell_type": "code",
   "execution_count": 1,
   "id": "5778aeca-5502-40a2-a229-a6f50619bbd9",
   "metadata": {},
   "outputs": [],
   "source": [
    "# 作業フォルダの移動\n",
    "import os\n",
    "os.chdir('/src')"
   ]
  },
  {
   "cell_type": "code",
   "execution_count": 2,
   "id": "1e13cc4a-aaff-47b6-a701-fba24bd9d272",
   "metadata": {},
   "outputs": [],
   "source": [
    "# モジュールの読み込み\n",
    "import pandas as pd\n",
    "\n",
    "from _config.columns import *\n",
    "from _config.params import *\n",
    "from functions.aggregate import *\n",
    "from functions.modeling import * "
   ]
  },
  {
   "cell_type": "code",
   "execution_count": 3,
   "id": "b2ebbd95-2341-49ca-a2f2-e4e3427146e4",
   "metadata": {},
   "outputs": [],
   "source": [
    "pd.set_option('display.max_rows', 100)\n",
    "pd.set_option('display.max_columns', 100)"
   ]
  },
  {
   "cell_type": "code",
   "execution_count": 4,
   "id": "cd6229f1-b9c3-4634-a397-ca40ff05575f",
   "metadata": {},
   "outputs": [],
   "source": [
    "# データの読み込み\n",
    "df_agg = pd.read_csv(path_agg, encoding=encoding)\n",
    "df_ml = pd.read_csv(path_ml, encoding=encoding)"
   ]
  },
  {
   "cell_type": "markdown",
   "id": "a68142ba-65a9-4b63-9d79-1fd8030bfeb5",
   "metadata": {},
   "source": [
    "# 2. 基礎集計"
   ]
  },
  {
   "cell_type": "code",
   "execution_count": null,
   "id": "0446a4d0-5d8f-4fde-a079-8be541dbc9fb",
   "metadata": {},
   "outputs": [],
   "source": []
  },
  {
   "cell_type": "markdown",
   "id": "ebd6b515-081c-4ea9-9d63-0ae722cef824",
   "metadata": {},
   "source": [
    "# 3. モデリング"
   ]
  },
  {
   "cell_type": "markdown",
   "id": "12088f05-1660-4aee-a20c-c437b2506548",
   "metadata": {},
   "source": [
    "## 3.1. モデルの学習"
   ]
  },
  {
   "cell_type": "code",
   "execution_count": null,
   "id": "d22d8dcb-e35b-47a5-9814-c91761af09e1",
   "metadata": {},
   "outputs": [],
   "source": []
  },
  {
   "cell_type": "markdown",
   "id": "745b0464-7f2e-4c55-9a65-299a2025a272",
   "metadata": {},
   "source": [
    "## 3.2. 予測結果の確認"
   ]
  },
  {
   "cell_type": "code",
   "execution_count": null,
   "id": "bd33f8ec-4436-48d5-ba69-d6f7babf6ec1",
   "metadata": {},
   "outputs": [],
   "source": []
  },
  {
   "cell_type": "markdown",
   "id": "19e824ca-59c5-467a-b325-2f84afd7bb95",
   "metadata": {},
   "source": [
    "## 3.3. yyplotの確認"
   ]
  },
  {
   "cell_type": "code",
   "execution_count": null,
   "id": "a34fca26-93f6-478b-bd44-8615433091b7",
   "metadata": {},
   "outputs": [],
   "source": []
  },
  {
   "cell_type": "markdown",
   "id": "41718d1e-4af2-498c-bfb0-341be3aae82c",
   "metadata": {},
   "source": [
    "## 3.4. 特徴量重要度の確認"
   ]
  },
  {
   "cell_type": "code",
   "execution_count": null,
   "id": "04b4f597-926b-46d7-b3bb-cc53abadb3f3",
   "metadata": {},
   "outputs": [],
   "source": []
  },
  {
   "cell_type": "code",
   "execution_count": null,
   "id": "e447a528-ebd8-455a-b185-6ba697f1aafe",
   "metadata": {},
   "outputs": [],
   "source": []
  }
 ],
 "metadata": {
  "kernelspec": {
   "display_name": "Python 3 (ipykernel)",
   "language": "python",
   "name": "python3"
  },
  "language_info": {
   "codemirror_mode": {
    "name": "ipython",
    "version": 3
   },
   "file_extension": ".py",
   "mimetype": "text/x-python",
   "name": "python",
   "nbconvert_exporter": "python",
   "pygments_lexer": "ipython3",
   "version": "3.11.4"
  }
 },
 "nbformat": 4,
 "nbformat_minor": 5
}
